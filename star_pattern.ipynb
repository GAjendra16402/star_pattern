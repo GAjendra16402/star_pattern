{
 "cells": [
  {
   "cell_type": "code",
   "execution_count": 1,
   "id": "e1c0e6e2",
   "metadata": {},
   "outputs": [],
   "source": [
    "import pandas as pd\n"
   ]
  },
  {
   "cell_type": "code",
   "execution_count": 2,
   "id": "5e16a59b",
   "metadata": {},
   "outputs": [],
   "source": [
    "import numpy as np"
   ]
  },
  {
   "cell_type": "code",
   "execution_count": 3,
   "id": "e39f3ede",
   "metadata": {},
   "outputs": [
    {
     "name": "stdout",
     "output_type": "stream",
     "text": [
      "enter a number:5\n",
      "factors of 5 are: [1, 5]\n"
     ]
    }
   ],
   "source": [
    "# factor of number\n",
    "def factors_number(num):\n",
    "    factors = []\n",
    "    for i in range(1, num+1):\n",
    "        if num % i ==0:\n",
    "            factors.append(i)\n",
    "    return factors\n",
    "number = int(input(\"enter a number:\"))\n",
    "print('factors of',number,'are:',factors_number(number))"
   ]
  },
  {
   "cell_type": "code",
   "execution_count": 4,
   "id": "3e0383f8",
   "metadata": {},
   "outputs": [
    {
     "name": "stdout",
     "output_type": "stream",
     "text": [
      "enter number:5\n",
      "pattern\n",
      "*\n",
      "**\n",
      "***\n",
      "****\n",
      "*****\n"
     ]
    }
   ],
   "source": [
    "def star_pattern(n):\n",
    "    for i in range (1, n+1):\n",
    "        print(\"*\"*i)\n",
    "rows = int(input(\"enter number:\"))\n",
    "print(\"pattern\")\n",
    "star_pattern(rows)"
   ]
  },
  {
   "cell_type": "code",
   "execution_count": 5,
   "id": "6324575d",
   "metadata": {},
   "outputs": [
    {
     "name": "stdout",
     "output_type": "stream",
     "text": [
      "Enter a number: 5\n",
      "Pattern:\n",
      "*\n",
      "**\n",
      "***\n",
      "****\n",
      "*****\n"
     ]
    }
   ],
   "source": [
    "def star_pattern(n):\n",
    "    for i in range(1, n + 1):\n",
    "        print(\"*\" * i)\n",
    "\n",
    "rows = int(input(\"Enter a number: \"))\n",
    "print(\"Pattern:\")\n",
    "star_pattern(rows)\n"
   ]
  },
  {
   "cell_type": "code",
   "execution_count": 6,
   "id": "b867060d",
   "metadata": {},
   "outputs": [
    {
     "name": "stdout",
     "output_type": "stream",
     "text": [
      "Enter a sentence: hello\n",
      "Rearranged sentence: hello1\n"
     ]
    }
   ],
   "source": [
    "def rearrange_string_with_number_last(string):\n",
    "    words = string.split()\n",
    "    rearranged_words = []\n",
    "    for word in words:\n",
    "        if word.isalpha():\n",
    "            rearranged_words.append(word + '1')\n",
    "    return ' '.join(rearranged_words)\n",
    "\n",
    "sentence = input(\"Enter a sentence: \")\n",
    "print(\"Rearranged sentence:\", rearrange_string_with_number_last(sentence))\n"
   ]
  },
  {
   "cell_type": "code",
   "execution_count": 7,
   "id": "e41a741e",
   "metadata": {},
   "outputs": [
    {
     "name": "stdout",
     "output_type": "stream",
     "text": [
      "enter a sentence for vertical histogram:heeki\n",
      "Vertical Histogram:\n",
      "h \n",
      "e \n",
      "k \n",
      "i \n"
     ]
    }
   ],
   "source": [
    "def vertical_histogram(string):\n",
    "    frequency = {}\n",
    "    for char in string:\n",
    "        if char.isalpha():\n",
    "            if char in frequency:\n",
    "                frequency[char] = +1\n",
    "            else:\n",
    "                frequency[char] = 1\n",
    "                \n",
    "    max_freq = max(frequency.values())\n",
    "    for i in range(max_freq, 0, -1):\n",
    "        for char in frequency:\n",
    "            if frequency[char] >=i:\n",
    "                print(char, end = ' ')\n",
    "            else:\n",
    "                print(' ', end=' ')\n",
    "            print()\n",
    "            \n",
    "sentence = input('enter a sentence for vertical histogram:')\n",
    "print('Vertical Histogram:')\n",
    "vertical_histogram(sentence)"
   ]
  },
  {
   "cell_type": "markdown",
   "id": "e116b53c",
   "metadata": {},
   "source": [
    "# PATTERN PRINTING "
   ]
  },
  {
   "cell_type": "code",
   "execution_count": 8,
   "id": "d1a4cf2d",
   "metadata": {},
   "outputs": [
    {
     "name": "stdout",
     "output_type": "stream",
     "text": [
      "enter number5\n",
      "pattern\n",
      "1\n",
      "21\n",
      "321\n",
      "4321\n",
      "54321\n"
     ]
    }
   ],
   "source": [
    "def number_pattern(n):\n",
    "    for i in range (1, n+1):\n",
    "        for j in range(i, 0, -1):\n",
    "            print(j, end='')\n",
    "        print()\n",
    "n = int(input(\"enter number\"))\n",
    "print(\"pattern\")\n",
    "number_pattern(n)"
   ]
  },
  {
   "cell_type": "code",
   "execution_count": 9,
   "id": "58e931bb",
   "metadata": {},
   "outputs": [
    {
     "name": "stdout",
     "output_type": "stream",
     "text": [
      "enter the number of rows5\n",
      "$$$$*\n",
      "$$$**\n",
      "$$***\n",
      "$****\n",
      "*****\n"
     ]
    }
   ],
   "source": [
    "def pattern_print(n):\n",
    "    for i in range(n):\n",
    "        for j in range(n):\n",
    "            if j < n - i -1:\n",
    "                print('$',end='')\n",
    "            else:\n",
    "                print('*',end='')\n",
    "        print()\n",
    "        \n",
    "n = int(input('enter the number of rows'))\n",
    "pattern_print(n)"
   ]
  },
  {
   "cell_type": "code",
   "execution_count": 10,
   "id": "6f1e7fb0",
   "metadata": {},
   "outputs": [
    {
     "name": "stdout",
     "output_type": "stream",
     "text": [
      "enter number5\n",
      "pattern\n",
      "*\n",
      "**\n",
      "***\n",
      "****\n",
      "*****\n"
     ]
    }
   ],
   "source": [
    "def star_pattern(n):\n",
    "    for i in range (1, n+1):\n",
    "        print(\"*\"*i)\n",
    "rows = int(input(\"enter number\"))\n",
    "print(\"pattern\")\n",
    "star_pattern(rows)"
   ]
  },
  {
   "cell_type": "code",
   "execution_count": 11,
   "id": "4724b3d2",
   "metadata": {},
   "outputs": [
    {
     "name": "stdout",
     "output_type": "stream",
     "text": [
      "enter the number of row5\n",
      "    *\n",
      "   **\n",
      "  ***\n",
      " ****\n",
      "*****\n"
     ]
    }
   ],
   "source": [
    "def pattern_star(n):\n",
    "    for i in range(n):\n",
    "        for j in range(n):\n",
    "            if j < n-i-1:\n",
    "                print(' ',end='')\n",
    "            else:\n",
    "                print('*',end='')\n",
    "        print()\n",
    "        \n",
    "n = int(input('enter the number of row'))\n",
    "pattern_star(n)"
   ]
  },
  {
   "cell_type": "code",
   "execution_count": 12,
   "id": "f3df572e",
   "metadata": {},
   "outputs": [
    {
     "name": "stdout",
     "output_type": "stream",
     "text": [
      "enter number of rows5\n",
      "a\n",
      "ab\n",
      "abc\n",
      "abcd\n",
      "abcde\n"
     ]
    }
   ],
   "source": [
    "def star_print(n):\n",
    "    for i in range(1, n+1):\n",
    "        for j in range(1, i+1):\n",
    "            print(chr(96+j), end='')\n",
    "        print()\n",
    "        \n",
    "n = int(input('enter number of rows'))\n",
    "star_print(n)"
   ]
  },
  {
   "cell_type": "code",
   "execution_count": 13,
   "id": "69d543a0",
   "metadata": {},
   "outputs": [
    {
     "name": "stdout",
     "output_type": "stream",
     "text": [
      "* \n",
      "* * \n",
      "* * * * \n",
      "* * * * * * * * \n"
     ]
    }
   ],
   "source": [
    "x=1\n",
    "\n",
    "for i in range(4):\n",
    "    for j in range(0,x):\n",
    "        print(\"*\", end=\" \")\n",
    "    x=x*2\n",
    "    print(\"\")"
   ]
  },
  {
   "cell_type": "code",
   "execution_count": 14,
   "id": "d5ccc7e4",
   "metadata": {},
   "outputs": [
    {
     "name": "stdout",
     "output_type": "stream",
     "text": [
      "5\n",
      "1 \n",
      "22 \n",
      "333 \n",
      "4444 \n",
      "55555 \n"
     ]
    }
   ],
   "source": [
    "n = int(input())\n",
    "\n",
    "for i in range (0,n):\n",
    "    for j in range(0,i+1):\n",
    "        print(i+1,end = \"\")\n",
    "        \n",
    "    print(\" \")\n",
    "    "
   ]
  },
  {
   "cell_type": "code",
   "execution_count": 15,
   "id": "ebdccbdb",
   "metadata": {
    "scrolled": true
   },
   "outputs": [
    {
     "name": "stdout",
     "output_type": "stream",
     "text": [
      "enter the number of rows5\n",
      "*\n",
      "**\n",
      "* *\n",
      "*  *\n",
      "*****\n"
     ]
    }
   ],
   "source": [
    "def right_angle(n):\n",
    "    for i in range(1,n+1):\n",
    "        for j in range(1,i+1):\n",
    "            if j == 1 or i == n or i == j:\n",
    "                print('*', end='')\n",
    "            else:\n",
    "                print(\" \", end='')\n",
    "        print()\n",
    "n = int(input('enter the number of rows'))\n",
    "right_angle(n)"
   ]
  },
  {
   "cell_type": "code",
   "execution_count": 16,
   "id": "064d7c3b",
   "metadata": {},
   "outputs": [
    {
     "name": "stdout",
     "output_type": "stream",
     "text": [
      "enter the row5\n",
      "*    \n",
      "**   \n",
      "* *  \n",
      "*  * \n",
      "*****\n"
     ]
    }
   ],
   "source": [
    "def print_pattern(rows):\n",
    "    for i in range(rows):\n",
    "        for j in range(rows):\n",
    "            if j == 0 or i == rows - 1 or i == j:\n",
    "                print(\"*\", end=\"\")\n",
    "            else:\n",
    "                print(\" \", end=\"\")\n",
    "        print()\n",
    "n = int(input('enter the row'))\n",
    "print_pattern(n)"
   ]
  },
  {
   "cell_type": "code",
   "execution_count": 17,
   "id": "26c70eb9",
   "metadata": {},
   "outputs": [
    {
     "name": "stdout",
     "output_type": "stream",
     "text": [
      "5\n",
      "*****\n",
      "   **\n",
      "  * *\n",
      " *  *\n",
      "*   *\n"
     ]
    }
   ],
   "source": [
    "def print_shape(n):\n",
    "    for i in range(n):\n",
    "        for j in range(n):\n",
    "            if j == n-1 or j==n-i-1 or i==0:\n",
    "                print('*', end='')\n",
    "            else:\n",
    "                print(' ', end='')\n",
    "        print()\n",
    "        \n",
    "n = int(input())\n",
    "print_shape(n)\n",
    "\n",
    "\n"
   ]
  },
  {
   "cell_type": "code",
   "execution_count": 18,
   "id": "e8a54193",
   "metadata": {},
   "outputs": [
    {
     "name": "stdout",
     "output_type": "stream",
     "text": [
      "enter the number of row5\n",
      "    *\n",
      "   **\n",
      "  ***\n",
      " ****\n",
      "*****\n"
     ]
    }
   ],
   "source": [
    "def pattern_star(n):\n",
    "    for i in range(n):\n",
    "        for j in range(n):\n",
    "            if j < n-i-1:\n",
    "                print(' ',end='')\n",
    "            else:\n",
    "                print('*',end='')\n",
    "        print()\n",
    "        \n",
    "n = int(input('enter the number of row'))\n",
    "pattern_star(n)"
   ]
  },
  {
   "cell_type": "code",
   "execution_count": 19,
   "id": "799930aa",
   "metadata": {},
   "outputs": [
    {
     "name": "stdout",
     "output_type": "stream",
     "text": [
      "     *\n",
      "    **\n",
      "   * *\n",
      "  *  *\n",
      " *   *\n",
      "******\n"
     ]
    }
   ],
   "source": [
    "n = 6\n",
    "for i in range(1,n+1):\n",
    "    for j in range(n,i,-1):\n",
    "        print(' ',end=\"\")\n",
    "    for k in range(1,i+1):\n",
    "        if k ==1 or k == i or i == n:\n",
    "            print('*',end='')\n",
    "        else:\n",
    "            print(' ',end='')\n",
    "        \n",
    "    print('')"
   ]
  },
  {
   "cell_type": "code",
   "execution_count": 20,
   "id": "b2be95eb",
   "metadata": {},
   "outputs": [
    {
     "name": "stdout",
     "output_type": "stream",
     "text": [
      "5\n",
      "*   *\n",
      "*   *\n",
      "*   *\n",
      "*   *\n",
      "*****\n"
     ]
    }
   ],
   "source": [
    "def print_pattern(rows):\n",
    "    for i in range(rows):\n",
    "        for j in range(rows):\n",
    "            if j == 0 or j == rows - 1 or i == rows - 1:\n",
    "                print(\"*\", end=\"\")\n",
    "            else:\n",
    "                print(\" \", end=\"\")\n",
    "        print()\n",
    "rows = int(input())\n",
    "print_pattern(rows)"
   ]
  },
  {
   "cell_type": "code",
   "execution_count": null,
   "id": "60a345a5",
   "metadata": {},
   "outputs": [],
   "source": []
  },
  {
   "cell_type": "code",
   "execution_count": null,
   "id": "ca508b4c",
   "metadata": {},
   "outputs": [],
   "source": []
  },
  {
   "cell_type": "code",
   "execution_count": 25,
   "id": "c135002d",
   "metadata": {},
   "outputs": [
    {
     "name": "stdout",
     "output_type": "stream",
     "text": [
      "Enter the number of rows: 5\n",
      "*****\n",
      " *  *\n",
      "  * *\n",
      "   **\n",
      "    *\n"
     ]
    }
   ],
   "source": [
    "def print_pattern(rows):\n",
    "    for i in range(rows):\n",
    "        for j in range(rows):\n",
    "            if j == rows - 1 or i == 0 or i == j:\n",
    "                print(\"*\", end=\"\")\n",
    "            else:\n",
    "                print(\" \", end=\"\")\n",
    "        print()\n",
    "\n",
    "n = int(input('Enter the number of rows: '))\n",
    "print_pattern(n)\n"
   ]
  },
  {
   "cell_type": "code",
   "execution_count": 53,
   "id": "bbad03b6",
   "metadata": {},
   "outputs": [
    {
     "name": "stdout",
     "output_type": "stream",
     "text": [
      "***** \n",
      "*  * \n",
      "* * \n",
      "** \n",
      "* \n"
     ]
    }
   ],
   "source": [
    "for i in range(1,6):\n",
    "    for j in range(6,i,-1):\n",
    "        if j==i+1 or  j== 6 or i ==1 :\n",
    "            print('*',end='')\n",
    "        else:\n",
    "            print(' ',end = '')\n",
    "    print(' ')"
   ]
  },
  {
   "cell_type": "code",
   "execution_count": null,
   "id": "d7c30c1e",
   "metadata": {},
   "outputs": [],
   "source": []
  }
 ],
 "metadata": {
  "kernelspec": {
   "display_name": "Python 3 (ipykernel)",
   "language": "python",
   "name": "python3"
  },
  "language_info": {
   "codemirror_mode": {
    "name": "ipython",
    "version": 3
   },
   "file_extension": ".py",
   "mimetype": "text/x-python",
   "name": "python",
   "nbconvert_exporter": "python",
   "pygments_lexer": "ipython3",
   "version": "3.11.4"
  }
 },
 "nbformat": 4,
 "nbformat_minor": 5
}
